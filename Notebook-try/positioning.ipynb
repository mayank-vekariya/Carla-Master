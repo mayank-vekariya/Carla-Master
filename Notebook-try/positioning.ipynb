{
 "cells": [
  {
   "cell_type": "code",
   "execution_count": 2,
   "id": "84189703",
   "metadata": {},
   "outputs": [],
   "source": [
    "#all imports\n",
    "import carla"
   ]
  },
  {
   "cell_type": "code",
   "execution_count": 3,
   "id": "c5846eae",
   "metadata": {},
   "outputs": [],
   "source": [
    "client = carla.Client('localhost', 2000)\n",
    "\n",
    "world = client.get_world()\n",
    "spawn_points = world.get_map().get_spawn_points()\n",
    "\n",
    "vehicle_bp = world.get_blueprint_library().filter('*firetruck*')\n",
    "start_point = spawn_points[0]\n",
    "vehicle = world.try_spawn_actor(vehicle_bp[0], start_point)"
   ]
  },
  {
   "cell_type": "code",
   "execution_count": 3,
   "id": "598d2c5c",
   "metadata": {},
   "outputs": [
    {
     "name": "stdout",
     "output_type": "stream",
     "text": [
      "Transform(Location(x=-64.644821, y=24.472643, z=-0.001822), Rotation(pitch=0.000089, yaw=0.159204, roll=0.002449))\n"
     ]
    }
   ],
   "source": [
    "# get the car's position on the map \n",
    "vehicle_pos = vehicle.get_transform()\n",
    "print(vehicle_pos)"
   ]
  },
  {
   "cell_type": "code",
   "execution_count": 4,
   "id": "33b88a12",
   "metadata": {},
   "outputs": [
    {
     "name": "stdout",
     "output_type": "stream",
     "text": [
      "Transform(Location(x=-64.644844, y=24.471010, z=0.600000), Rotation(pitch=0.000000, yaw=0.159198, roll=0.000000))\n"
     ]
    }
   ],
   "source": [
    "# initial spawn point is the same - just 0.6m higher off the ground\n",
    "print(start_point)"
   ]
  },
  {
   "cell_type": "code",
   "execution_count": 5,
   "id": "365eee2c",
   "metadata": {},
   "outputs": [],
   "source": [
    "#send vehicle off\n",
    "vehicle.set_autopilot(True)"
   ]
  },
  {
   "cell_type": "code",
   "execution_count": 13,
   "id": "233cd16e",
   "metadata": {},
   "outputs": [
    {
     "name": "stdout",
     "output_type": "stream",
     "text": [
      "Transform(Location(x=-113.903656, y=14.422489, z=-0.003719), Rotation(pitch=0.006168, yaw=90.637817, roll=0.000000))\n"
     ]
    }
   ],
   "source": [
    "# get actual position from the car moving\n",
    "vehicle_pos = vehicle.get_transform()\n",
    "print(vehicle_pos)"
   ]
  },
  {
   "cell_type": "code",
   "execution_count": 8,
   "id": "24e9be89",
   "metadata": {},
   "outputs": [],
   "source": [
    "# now look at the map\n",
    "town_map = world.get_map()"
   ]
  },
  {
   "cell_type": "code",
   "execution_count": 9,
   "id": "39caeb6f",
   "metadata": {},
   "outputs": [
    {
     "data": {
      "text/plain": [
       "carla.libcarla.Map"
      ]
     },
     "execution_count": 9,
     "metadata": {},
     "output_type": "execute_result"
    }
   ],
   "source": [
    "type(town_map)"
   ]
  },
  {
   "cell_type": "code",
   "execution_count": 10,
   "id": "ca0be330",
   "metadata": {},
   "outputs": [
    {
     "name": "stdout",
     "output_type": "stream",
     "text": [
      "Map(name=Carla/Maps/Town10HD_Opt)\n"
     ]
    }
   ],
   "source": [
    "print(town_map)"
   ]
  },
  {
   "cell_type": "code",
   "execution_count": 11,
   "id": "7b407a5b",
   "metadata": {},
   "outputs": [],
   "source": [
    "roads = town_map.get_topology()"
   ]
  },
  {
   "cell_type": "code",
   "execution_count": 35,
   "id": "e1d93d9f",
   "metadata": {},
   "outputs": [
    {
     "name": "stdout",
     "output_type": "stream",
     "text": [
      "[(<carla.libcarla.Waypoint object at 0x000001FDB52E4810>, <carla.libcarla.Waypoint object at 0x000001FDB52E4450>), (<carla.libcarla.Waypoint object at 0x000001FDB52E4870>, <carla.libcarla.Waypoint object at 0x000001FDB52E48D0>), (<carla.libcarla.Waypoint object at 0x000001FDB52E4930>, <carla.libcarla.Waypoint object at 0x000001FDB52E4990>), (<carla.libcarla.Waypoint object at 0x000001FDB52E49F0>, <carla.libcarla.Waypoint object at 0x000001FDB52E4A50>), (<carla.libcarla.Waypoint object at 0x000001FDB52E4AB0>, <carla.libcarla.Waypoint object at 0x000001FDB52E4B10>), (<carla.libcarla.Waypoint object at 0x000001FDB52E4B70>, <carla.libcarla.Waypoint object at 0x000001FDB52E4BD0>), (<carla.libcarla.Waypoint object at 0x000001FDB52E4C30>, <carla.libcarla.Waypoint object at 0x000001FDB52E4C90>), (<carla.libcarla.Waypoint object at 0x000001FDB52E4CF0>, <carla.libcarla.Waypoint object at 0x000001FDB52E4D50>), (<carla.libcarla.Waypoint object at 0x000001FDB52E4DB0>, <carla.libcarla.Waypoint object at 0x000001FDB52E4E10>), (<carla.libcarla.Waypoint object at 0x000001FDB52E4E70>, <carla.libcarla.Waypoint object at 0x000001FDB52E4ED0>), (<carla.libcarla.Waypoint object at 0x000001FDB52E4F30>, <carla.libcarla.Waypoint object at 0x000001FDB52E4F90>), (<carla.libcarla.Waypoint object at 0x000001FDB52F0030>, <carla.libcarla.Waypoint object at 0x000001FDB52F0090>), (<carla.libcarla.Waypoint object at 0x000001FDB52F00F0>, <carla.libcarla.Waypoint object at 0x000001FDB52F0150>), (<carla.libcarla.Waypoint object at 0x000001FDB52F01B0>, <carla.libcarla.Waypoint object at 0x000001FDB52F0210>), (<carla.libcarla.Waypoint object at 0x000001FDB52F0270>, <carla.libcarla.Waypoint object at 0x000001FDB52F02D0>), (<carla.libcarla.Waypoint object at 0x000001FDB52F0330>, <carla.libcarla.Waypoint object at 0x000001FDB52F0390>), (<carla.libcarla.Waypoint object at 0x000001FDB52F03F0>, <carla.libcarla.Waypoint object at 0x000001FDB52F0450>), (<carla.libcarla.Waypoint object at 0x000001FDB52F04B0>, <carla.libcarla.Waypoint object at 0x000001FDB52F0510>), (<carla.libcarla.Waypoint object at 0x000001FDB52F0570>, <carla.libcarla.Waypoint object at 0x000001FDB52F05D0>), (<carla.libcarla.Waypoint object at 0x000001FDB52F0630>, <carla.libcarla.Waypoint object at 0x000001FDB52F0690>), (<carla.libcarla.Waypoint object at 0x000001FDB52F06F0>, <carla.libcarla.Waypoint object at 0x000001FDB52F0750>), (<carla.libcarla.Waypoint object at 0x000001FDB52F07B0>, <carla.libcarla.Waypoint object at 0x000001FDB52F0810>), (<carla.libcarla.Waypoint object at 0x000001FDB52F0870>, <carla.libcarla.Waypoint object at 0x000001FDB52F08D0>), (<carla.libcarla.Waypoint object at 0x000001FDB52F0930>, <carla.libcarla.Waypoint object at 0x000001FDB52F0990>), (<carla.libcarla.Waypoint object at 0x000001FDB52F09F0>, <carla.libcarla.Waypoint object at 0x000001FDB52F0A50>), (<carla.libcarla.Waypoint object at 0x000001FDB52F0AB0>, <carla.libcarla.Waypoint object at 0x000001FDB52F0B10>), (<carla.libcarla.Waypoint object at 0x000001FDB52F0B70>, <carla.libcarla.Waypoint object at 0x000001FDB52F0BD0>), (<carla.libcarla.Waypoint object at 0x000001FDB52F0C30>, <carla.libcarla.Waypoint object at 0x000001FDB52F0C90>), (<carla.libcarla.Waypoint object at 0x000001FDB52F0CF0>, <carla.libcarla.Waypoint object at 0x000001FDB52F0D50>), (<carla.libcarla.Waypoint object at 0x000001FDB52F0DB0>, <carla.libcarla.Waypoint object at 0x000001FDB52F0E10>), (<carla.libcarla.Waypoint object at 0x000001FDB52F0E70>, <carla.libcarla.Waypoint object at 0x000001FDB52F0ED0>), (<carla.libcarla.Waypoint object at 0x000001FDB52F0F30>, <carla.libcarla.Waypoint object at 0x000001FDB52F0F90>), (<carla.libcarla.Waypoint object at 0x000001FDB52F1030>, <carla.libcarla.Waypoint object at 0x000001FDB52F1090>), (<carla.libcarla.Waypoint object at 0x000001FDB52F10F0>, <carla.libcarla.Waypoint object at 0x000001FDB52F1150>), (<carla.libcarla.Waypoint object at 0x000001FDB52F11B0>, <carla.libcarla.Waypoint object at 0x000001FDB52F1210>), (<carla.libcarla.Waypoint object at 0x000001FDB52F1270>, <carla.libcarla.Waypoint object at 0x000001FDB52F12D0>), (<carla.libcarla.Waypoint object at 0x000001FDB52F1330>, <carla.libcarla.Waypoint object at 0x000001FDB52F1390>), (<carla.libcarla.Waypoint object at 0x000001FDB52F13F0>, <carla.libcarla.Waypoint object at 0x000001FDB52F1450>), (<carla.libcarla.Waypoint object at 0x000001FDB52F14B0>, <carla.libcarla.Waypoint object at 0x000001FDB52F1510>), (<carla.libcarla.Waypoint object at 0x000001FDB52F1570>, <carla.libcarla.Waypoint object at 0x000001FDB52F15D0>), (<carla.libcarla.Waypoint object at 0x000001FDB52F1630>, <carla.libcarla.Waypoint object at 0x000001FDB52F1690>), (<carla.libcarla.Waypoint object at 0x000001FDB52F16F0>, <carla.libcarla.Waypoint object at 0x000001FDB52F1750>), (<carla.libcarla.Waypoint object at 0x000001FDB52F17B0>, <carla.libcarla.Waypoint object at 0x000001FDB52F1810>), (<carla.libcarla.Waypoint object at 0x000001FDB52F1870>, <carla.libcarla.Waypoint object at 0x000001FDB52F18D0>), (<carla.libcarla.Waypoint object at 0x000001FDB52F1930>, <carla.libcarla.Waypoint object at 0x000001FDB52F1990>), (<carla.libcarla.Waypoint object at 0x000001FDB52F19F0>, <carla.libcarla.Waypoint object at 0x000001FDB52F1A50>), (<carla.libcarla.Waypoint object at 0x000001FDB52F1AB0>, <carla.libcarla.Waypoint object at 0x000001FDB52F1B10>), (<carla.libcarla.Waypoint object at 0x000001FDB52F1B70>, <carla.libcarla.Waypoint object at 0x000001FDB52F1BD0>), (<carla.libcarla.Waypoint object at 0x000001FDB52F1C30>, <carla.libcarla.Waypoint object at 0x000001FDB52F1C90>), (<carla.libcarla.Waypoint object at 0x000001FDB52F1CF0>, <carla.libcarla.Waypoint object at 0x000001FDB52F1D50>), (<carla.libcarla.Waypoint object at 0x000001FDB52F1DB0>, <carla.libcarla.Waypoint object at 0x000001FDB52F1E10>), (<carla.libcarla.Waypoint object at 0x000001FDB52F1E70>, <carla.libcarla.Waypoint object at 0x000001FDB52F1ED0>), (<carla.libcarla.Waypoint object at 0x000001FDB52F1F30>, <carla.libcarla.Waypoint object at 0x000001FDB52F1F90>), (<carla.libcarla.Waypoint object at 0x000001FDB52F2030>, <carla.libcarla.Waypoint object at 0x000001FDB52F2090>), (<carla.libcarla.Waypoint object at 0x000001FDB52F20F0>, <carla.libcarla.Waypoint object at 0x000001FDB52F2150>), (<carla.libcarla.Waypoint object at 0x000001FDB52F21B0>, <carla.libcarla.Waypoint object at 0x000001FDB52F2210>), (<carla.libcarla.Waypoint object at 0x000001FDB52F2270>, <carla.libcarla.Waypoint object at 0x000001FDB52F22D0>), (<carla.libcarla.Waypoint object at 0x000001FDB52F2330>, <carla.libcarla.Waypoint object at 0x000001FDB52F2390>), (<carla.libcarla.Waypoint object at 0x000001FDB52F23F0>, <carla.libcarla.Waypoint object at 0x000001FDB52F2450>), (<carla.libcarla.Waypoint object at 0x000001FDB52F24B0>, <carla.libcarla.Waypoint object at 0x000001FDB52F2510>), (<carla.libcarla.Waypoint object at 0x000001FDB52F2570>, <carla.libcarla.Waypoint object at 0x000001FDB52F25D0>), (<carla.libcarla.Waypoint object at 0x000001FDB52F2630>, <carla.libcarla.Waypoint object at 0x000001FDB52F2690>), (<carla.libcarla.Waypoint object at 0x000001FDB52F26F0>, <carla.libcarla.Waypoint object at 0x000001FDB52F2750>), (<carla.libcarla.Waypoint object at 0x000001FDB52F27B0>, <carla.libcarla.Waypoint object at 0x000001FDB52F2810>), (<carla.libcarla.Waypoint object at 0x000001FDB52F2870>, <carla.libcarla.Waypoint object at 0x000001FDB52F28D0>), (<carla.libcarla.Waypoint object at 0x000001FDB52F2930>, <carla.libcarla.Waypoint object at 0x000001FDB52F2990>), (<carla.libcarla.Waypoint object at 0x000001FDB52F29F0>, <carla.libcarla.Waypoint object at 0x000001FDB52F2A50>), (<carla.libcarla.Waypoint object at 0x000001FDB52F2AB0>, <carla.libcarla.Waypoint object at 0x000001FDB52F2B10>), (<carla.libcarla.Waypoint object at 0x000001FDB52F2B70>, <carla.libcarla.Waypoint object at 0x000001FDB52F2BD0>), (<carla.libcarla.Waypoint object at 0x000001FDB52F2C30>, <carla.libcarla.Waypoint object at 0x000001FDB52F2C90>), (<carla.libcarla.Waypoint object at 0x000001FDB52F2CF0>, <carla.libcarla.Waypoint object at 0x000001FDB52F2D50>), (<carla.libcarla.Waypoint object at 0x000001FDB52F2DB0>, <carla.libcarla.Waypoint object at 0x000001FDB52F2E10>), (<carla.libcarla.Waypoint object at 0x000001FDB52F2E70>, <carla.libcarla.Waypoint object at 0x000001FDB52F2ED0>), (<carla.libcarla.Waypoint object at 0x000001FDB52F2F30>, <carla.libcarla.Waypoint object at 0x000001FDB52F2F90>), (<carla.libcarla.Waypoint object at 0x000001FDB52F3030>, <carla.libcarla.Waypoint object at 0x000001FDB52F3090>), (<carla.libcarla.Waypoint object at 0x000001FDB52F30F0>, <carla.libcarla.Waypoint object at 0x000001FDB52F3150>), (<carla.libcarla.Waypoint object at 0x000001FDB52F31B0>, <carla.libcarla.Waypoint object at 0x000001FDB52F3210>), (<carla.libcarla.Waypoint object at 0x000001FDB52F3270>, <carla.libcarla.Waypoint object at 0x000001FDB52F32D0>), (<carla.libcarla.Waypoint object at 0x000001FDB52F3330>, <carla.libcarla.Waypoint object at 0x000001FDB52F3390>), (<carla.libcarla.Waypoint object at 0x000001FDB52F33F0>, <carla.libcarla.Waypoint object at 0x000001FDB52F3450>), (<carla.libcarla.Waypoint object at 0x000001FDB52F34B0>, <carla.libcarla.Waypoint object at 0x000001FDB52F3510>), (<carla.libcarla.Waypoint object at 0x000001FDB52F3570>, <carla.libcarla.Waypoint object at 0x000001FDB52F35D0>), (<carla.libcarla.Waypoint object at 0x000001FDB52F3630>, <carla.libcarla.Waypoint object at 0x000001FDB52F3690>), (<carla.libcarla.Waypoint object at 0x000001FDB52F36F0>, <carla.libcarla.Waypoint object at 0x000001FDB52F3750>), (<carla.libcarla.Waypoint object at 0x000001FDB52F37B0>, <carla.libcarla.Waypoint object at 0x000001FDB52F3810>), (<carla.libcarla.Waypoint object at 0x000001FDB52F3870>, <carla.libcarla.Waypoint object at 0x000001FDB52F38D0>), (<carla.libcarla.Waypoint object at 0x000001FDB52F3930>, <carla.libcarla.Waypoint object at 0x000001FDB52F3990>), (<carla.libcarla.Waypoint object at 0x000001FDB52F39F0>, <carla.libcarla.Waypoint object at 0x000001FDB52F3A50>), (<carla.libcarla.Waypoint object at 0x000001FDB52F3AB0>, <carla.libcarla.Waypoint object at 0x000001FDB52F3B10>), (<carla.libcarla.Waypoint object at 0x000001FDB52F3B70>, <carla.libcarla.Waypoint object at 0x000001FDB52F3BD0>), (<carla.libcarla.Waypoint object at 0x000001FDB52F3C30>, <carla.libcarla.Waypoint object at 0x000001FDB52F3C90>), (<carla.libcarla.Waypoint object at 0x000001FDB52F3CF0>, <carla.libcarla.Waypoint object at 0x000001FDB52F3D50>), (<carla.libcarla.Waypoint object at 0x000001FDB52F3DB0>, <carla.libcarla.Waypoint object at 0x000001FDB52F3E10>), (<carla.libcarla.Waypoint object at 0x000001FDB52F3E70>, <carla.libcarla.Waypoint object at 0x000001FDB52F3ED0>), (<carla.libcarla.Waypoint object at 0x000001FDB52F3F30>, <carla.libcarla.Waypoint object at 0x000001FDB52F3F90>), (<carla.libcarla.Waypoint object at 0x000001FDB52F4030>, <carla.libcarla.Waypoint object at 0x000001FDB52F4090>), (<carla.libcarla.Waypoint object at 0x000001FDB52F40F0>, <carla.libcarla.Waypoint object at 0x000001FDB52F4150>), (<carla.libcarla.Waypoint object at 0x000001FDB52F41B0>, <carla.libcarla.Waypoint object at 0x000001FDB52F4210>), (<carla.libcarla.Waypoint object at 0x000001FDB52F4270>, <carla.libcarla.Waypoint object at 0x000001FDB52F42D0>), (<carla.libcarla.Waypoint object at 0x000001FDB52F4330>, <carla.libcarla.Waypoint object at 0x000001FDB52F4390>), (<carla.libcarla.Waypoint object at 0x000001FDB52F43F0>, <carla.libcarla.Waypoint object at 0x000001FDB52F4450>), (<carla.libcarla.Waypoint object at 0x000001FDB52F44B0>, <carla.libcarla.Waypoint object at 0x000001FDB52F4510>), (<carla.libcarla.Waypoint object at 0x000001FDB52F4570>, <carla.libcarla.Waypoint object at 0x000001FDB52F45D0>), (<carla.libcarla.Waypoint object at 0x000001FDB52F4630>, <carla.libcarla.Waypoint object at 0x000001FDB52F4690>), (<carla.libcarla.Waypoint object at 0x000001FDB52F46F0>, <carla.libcarla.Waypoint object at 0x000001FDB52F4750>), (<carla.libcarla.Waypoint object at 0x000001FDB52F47B0>, <carla.libcarla.Waypoint object at 0x000001FDB52F4810>), (<carla.libcarla.Waypoint object at 0x000001FDB52F4870>, <carla.libcarla.Waypoint object at 0x000001FDB52F48D0>), (<carla.libcarla.Waypoint object at 0x000001FDB52F4930>, <carla.libcarla.Waypoint object at 0x000001FDB52F4990>), (<carla.libcarla.Waypoint object at 0x000001FDB52F49F0>, <carla.libcarla.Waypoint object at 0x000001FDB52F4A50>), (<carla.libcarla.Waypoint object at 0x000001FDB52F4AB0>, <carla.libcarla.Waypoint object at 0x000001FDB52F4B10>), (<carla.libcarla.Waypoint object at 0x000001FDB52F4B70>, <carla.libcarla.Waypoint object at 0x000001FDB52F4BD0>), (<carla.libcarla.Waypoint object at 0x000001FDB52F4C30>, <carla.libcarla.Waypoint object at 0x000001FDB52F4C90>), (<carla.libcarla.Waypoint object at 0x000001FDB52F4CF0>, <carla.libcarla.Waypoint object at 0x000001FDB52F4D50>), (<carla.libcarla.Waypoint object at 0x000001FDB52F4DB0>, <carla.libcarla.Waypoint object at 0x000001FDB52F4E10>), (<carla.libcarla.Waypoint object at 0x000001FDB52F4E70>, <carla.libcarla.Waypoint object at 0x000001FDB52F4ED0>), (<carla.libcarla.Waypoint object at 0x000001FDB52F4F30>, <carla.libcarla.Waypoint object at 0x000001FDB52F4F90>), (<carla.libcarla.Waypoint object at 0x000001FDB52F5030>, <carla.libcarla.Waypoint object at 0x000001FDB52F5090>), (<carla.libcarla.Waypoint object at 0x000001FDB52F50F0>, <carla.libcarla.Waypoint object at 0x000001FDB52F5150>), (<carla.libcarla.Waypoint object at 0x000001FDB52F51B0>, <carla.libcarla.Waypoint object at 0x000001FDB52F5210>), (<carla.libcarla.Waypoint object at 0x000001FDB52F5270>, <carla.libcarla.Waypoint object at 0x000001FDB52F52D0>), (<carla.libcarla.Waypoint object at 0x000001FDB52F5330>, <carla.libcarla.Waypoint object at 0x000001FDB52F5390>), (<carla.libcarla.Waypoint object at 0x000001FDB52F53F0>, <carla.libcarla.Waypoint object at 0x000001FDB52F5450>), (<carla.libcarla.Waypoint object at 0x000001FDB52F54B0>, <carla.libcarla.Waypoint object at 0x000001FDB52F5510>), (<carla.libcarla.Waypoint object at 0x000001FDB52F5570>, <carla.libcarla.Waypoint object at 0x000001FDB52F55D0>), (<carla.libcarla.Waypoint object at 0x000001FDB52F5630>, <carla.libcarla.Waypoint object at 0x000001FDB52F5690>), (<carla.libcarla.Waypoint object at 0x000001FDB52F56F0>, <carla.libcarla.Waypoint object at 0x000001FDB52F5750>), (<carla.libcarla.Waypoint object at 0x000001FDB52F57B0>, <carla.libcarla.Waypoint object at 0x000001FDB52F5810>), (<carla.libcarla.Waypoint object at 0x000001FDB52F5870>, <carla.libcarla.Waypoint object at 0x000001FDB52F58D0>), (<carla.libcarla.Waypoint object at 0x000001FDB52F5930>, <carla.libcarla.Waypoint object at 0x000001FDB52F5990>), (<carla.libcarla.Waypoint object at 0x000001FDB52F59F0>, <carla.libcarla.Waypoint object at 0x000001FDB52F5A50>), (<carla.libcarla.Waypoint object at 0x000001FDB52F5AB0>, <carla.libcarla.Waypoint object at 0x000001FDB52F5B10>), (<carla.libcarla.Waypoint object at 0x000001FDB52F5B70>, <carla.libcarla.Waypoint object at 0x000001FDB52F5BD0>), (<carla.libcarla.Waypoint object at 0x000001FDB52F5C30>, <carla.libcarla.Waypoint object at 0x000001FDB52F5C90>), (<carla.libcarla.Waypoint object at 0x000001FDB52F5CF0>, <carla.libcarla.Waypoint object at 0x000001FDB52F5D50>), (<carla.libcarla.Waypoint object at 0x000001FDB52F5DB0>, <carla.libcarla.Waypoint object at 0x000001FDB52F5E10>), (<carla.libcarla.Waypoint object at 0x000001FDB52F5E70>, <carla.libcarla.Waypoint object at 0x000001FDB52F5ED0>), (<carla.libcarla.Waypoint object at 0x000001FDB52F5F30>, <carla.libcarla.Waypoint object at 0x000001FDB52F5F90>), (<carla.libcarla.Waypoint object at 0x000001FDB52F6030>, <carla.libcarla.Waypoint object at 0x000001FDB52F6090>), (<carla.libcarla.Waypoint object at 0x000001FDB52F60F0>, <carla.libcarla.Waypoint object at 0x000001FDB52F6150>), (<carla.libcarla.Waypoint object at 0x000001FDB52F61B0>, <carla.libcarla.Waypoint object at 0x000001FDB52F6210>), (<carla.libcarla.Waypoint object at 0x000001FDB52F6270>, <carla.libcarla.Waypoint object at 0x000001FDB52F62D0>), (<carla.libcarla.Waypoint object at 0x000001FDB52F6330>, <carla.libcarla.Waypoint object at 0x000001FDB52F6390>), (<carla.libcarla.Waypoint object at 0x000001FDB52F63F0>, <carla.libcarla.Waypoint object at 0x000001FDB52F6450>), (<carla.libcarla.Waypoint object at 0x000001FDB52F64B0>, <carla.libcarla.Waypoint object at 0x000001FDB52F6510>), (<carla.libcarla.Waypoint object at 0x000001FDB52F6570>, <carla.libcarla.Waypoint object at 0x000001FDB52F65D0>), (<carla.libcarla.Waypoint object at 0x000001FDB52F6630>, <carla.libcarla.Waypoint object at 0x000001FDB52F6690>), (<carla.libcarla.Waypoint object at 0x000001FDB52F66F0>, <carla.libcarla.Waypoint object at 0x000001FDB52F6750>), (<carla.libcarla.Waypoint object at 0x000001FDB52F67B0>, <carla.libcarla.Waypoint object at 0x000001FDB52F6810>), (<carla.libcarla.Waypoint object at 0x000001FDB52F6870>, <carla.libcarla.Waypoint object at 0x000001FDB52F68D0>), (<carla.libcarla.Waypoint object at 0x000001FDB52F6930>, <carla.libcarla.Waypoint object at 0x000001FDB52F6990>), (<carla.libcarla.Waypoint object at 0x000001FDB52F69F0>, <carla.libcarla.Waypoint object at 0x000001FDB52F6A50>), (<carla.libcarla.Waypoint object at 0x000001FDB52F6AB0>, <carla.libcarla.Waypoint object at 0x000001FDB52F6B10>), (<carla.libcarla.Waypoint object at 0x000001FDB52F6B70>, <carla.libcarla.Waypoint object at 0x000001FDB52F6BD0>), (<carla.libcarla.Waypoint object at 0x000001FDB52F6C30>, <carla.libcarla.Waypoint object at 0x000001FDB52F6C90>), (<carla.libcarla.Waypoint object at 0x000001FDB52F6CF0>, <carla.libcarla.Waypoint object at 0x000001FDB52F6D50>), (<carla.libcarla.Waypoint object at 0x000001FDB52F6DB0>, <carla.libcarla.Waypoint object at 0x000001FDB52F6E10>), (<carla.libcarla.Waypoint object at 0x000001FDB52F6E70>, <carla.libcarla.Waypoint object at 0x000001FDB52F6ED0>), (<carla.libcarla.Waypoint object at 0x000001FDB52F6F30>, <carla.libcarla.Waypoint object at 0x000001FDB52F6F90>), (<carla.libcarla.Waypoint object at 0x000001FDB52F7030>, <carla.libcarla.Waypoint object at 0x000001FDB52F7090>), (<carla.libcarla.Waypoint object at 0x000001FDB52F70F0>, <carla.libcarla.Waypoint object at 0x000001FDB52F7150>), (<carla.libcarla.Waypoint object at 0x000001FDB52F71B0>, <carla.libcarla.Waypoint object at 0x000001FDB52F7210>), (<carla.libcarla.Waypoint object at 0x000001FDB52F7270>, <carla.libcarla.Waypoint object at 0x000001FDB52F72D0>), (<carla.libcarla.Waypoint object at 0x000001FDB52F7330>, <carla.libcarla.Waypoint object at 0x000001FDB52F7390>), (<carla.libcarla.Waypoint object at 0x000001FDB52F73F0>, <carla.libcarla.Waypoint object at 0x000001FDB52F7450>), (<carla.libcarla.Waypoint object at 0x000001FDB52F74B0>, <carla.libcarla.Waypoint object at 0x000001FDB52F7510>), (<carla.libcarla.Waypoint object at 0x000001FDB52F7570>, <carla.libcarla.Waypoint object at 0x000001FDB52F75D0>), (<carla.libcarla.Waypoint object at 0x000001FDB52F7630>, <carla.libcarla.Waypoint object at 0x000001FDB52F7690>), (<carla.libcarla.Waypoint object at 0x000001FDB52F76F0>, <carla.libcarla.Waypoint object at 0x000001FDB52F7750>), (<carla.libcarla.Waypoint object at 0x000001FDB52F77B0>, <carla.libcarla.Waypoint object at 0x000001FDB52F7810>), (<carla.libcarla.Waypoint object at 0x000001FDB52F7870>, <carla.libcarla.Waypoint object at 0x000001FDB52F78D0>), (<carla.libcarla.Waypoint object at 0x000001FDB52F7930>, <carla.libcarla.Waypoint object at 0x000001FDB52F7990>), (<carla.libcarla.Waypoint object at 0x000001FDB52F79F0>, <carla.libcarla.Waypoint object at 0x000001FDB52F7A50>), (<carla.libcarla.Waypoint object at 0x000001FDB52F7AB0>, <carla.libcarla.Waypoint object at 0x000001FDB52F7B10>), (<carla.libcarla.Waypoint object at 0x000001FDB52F7B70>, <carla.libcarla.Waypoint object at 0x000001FDB52F7BD0>), (<carla.libcarla.Waypoint object at 0x000001FDB52F7C30>, <carla.libcarla.Waypoint object at 0x000001FDB52F7C90>), (<carla.libcarla.Waypoint object at 0x000001FDB52F7CF0>, <carla.libcarla.Waypoint object at 0x000001FDB52F7D50>), (<carla.libcarla.Waypoint object at 0x000001FDB52F7DB0>, <carla.libcarla.Waypoint object at 0x000001FDB52F7E10>), (<carla.libcarla.Waypoint object at 0x000001FDB52F7E70>, <carla.libcarla.Waypoint object at 0x000001FDB52F7ED0>), (<carla.libcarla.Waypoint object at 0x000001FDB52F7F30>, <carla.libcarla.Waypoint object at 0x000001FDB52F7F90>), (<carla.libcarla.Waypoint object at 0x000001FDB52F8030>, <carla.libcarla.Waypoint object at 0x000001FDB52F8090>), (<carla.libcarla.Waypoint object at 0x000001FDB52F80F0>, <carla.libcarla.Waypoint object at 0x000001FDB52F8150>), (<carla.libcarla.Waypoint object at 0x000001FDB52F81B0>, <carla.libcarla.Waypoint object at 0x000001FDB52F8210>), (<carla.libcarla.Waypoint object at 0x000001FDB52F8270>, <carla.libcarla.Waypoint object at 0x000001FDB52F82D0>), (<carla.libcarla.Waypoint object at 0x000001FDB52F8330>, <carla.libcarla.Waypoint object at 0x000001FDB52F8390>), (<carla.libcarla.Waypoint object at 0x000001FDB52F83F0>, <carla.libcarla.Waypoint object at 0x000001FDB52F8450>), (<carla.libcarla.Waypoint object at 0x000001FDB52F84B0>, <carla.libcarla.Waypoint object at 0x000001FDB52F8510>), (<carla.libcarla.Waypoint object at 0x000001FDB52F8570>, <carla.libcarla.Waypoint object at 0x000001FDB52F85D0>), (<carla.libcarla.Waypoint object at 0x000001FDB52F8630>, <carla.libcarla.Waypoint object at 0x000001FDB52F8690>), (<carla.libcarla.Waypoint object at 0x000001FDB52F86F0>, <carla.libcarla.Waypoint object at 0x000001FDB52F8750>), (<carla.libcarla.Waypoint object at 0x000001FDB52F87B0>, <carla.libcarla.Waypoint object at 0x000001FDB52F8810>), (<carla.libcarla.Waypoint object at 0x000001FDB52F8870>, <carla.libcarla.Waypoint object at 0x000001FDB52F88D0>), (<carla.libcarla.Waypoint object at 0x000001FDB52F8930>, <carla.libcarla.Waypoint object at 0x000001FDB52F8990>), (<carla.libcarla.Waypoint object at 0x000001FDB52F89F0>, <carla.libcarla.Waypoint object at 0x000001FDB52F8A50>), (<carla.libcarla.Waypoint object at 0x000001FDB52F8AB0>, <carla.libcarla.Waypoint object at 0x000001FDB52F8B10>), (<carla.libcarla.Waypoint object at 0x000001FDB52F8B70>, <carla.libcarla.Waypoint object at 0x000001FDB52F8BD0>), (<carla.libcarla.Waypoint object at 0x000001FDB52F8C30>, <carla.libcarla.Waypoint object at 0x000001FDB52F8C90>), (<carla.libcarla.Waypoint object at 0x000001FDB52F8CF0>, <carla.libcarla.Waypoint object at 0x000001FDB52F8D50>), (<carla.libcarla.Waypoint object at 0x000001FDB52F8DB0>, <carla.libcarla.Waypoint object at 0x000001FDB52F8E10>), (<carla.libcarla.Waypoint object at 0x000001FDB52F8E70>, <carla.libcarla.Waypoint object at 0x000001FDB52F8ED0>), (<carla.libcarla.Waypoint object at 0x000001FDB52F8F30>, <carla.libcarla.Waypoint object at 0x000001FDB52F8F90>)]\n"
     ]
    }
   ],
   "source": [
    "# topology is pairs of waypoints defining all roads - tuples of those\n",
    "print(roads)\n"
   ]
  },
  {
   "cell_type": "code",
   "execution_count": 36,
   "id": "37b9456f",
   "metadata": {},
   "outputs": [
    {
     "name": "stdout",
     "output_type": "stream",
     "text": [
      "Waypoint(Transform(Location(x=109.929878, y=-9.334196, z=0.000000), Rotation(pitch=0.000000, yaw=-89.609253, roll=0.000000)))\n"
     ]
    }
   ],
   "source": [
    "#have a look at a waypoint - it is transform wrapped as a waypoint\n",
    "print(roads[0][0])\n"
   ]
  },
  {
   "cell_type": "code",
   "execution_count": 12,
   "id": "778cfe38",
   "metadata": {},
   "outputs": [
    {
     "data": {
      "text/plain": [
       "200"
      ]
     },
     "execution_count": 12,
     "metadata": {},
     "output_type": "execute_result"
    }
   ],
   "source": [
    "len(roads)"
   ]
  },
  {
   "cell_type": "code",
   "execution_count": 18,
   "id": "9e8cf8ce",
   "metadata": {},
   "outputs": [],
   "source": [
    "# making a route\n",
    "#from one position to another\n",
    "#pos 1: Transform(Location(x=50.477512, y=141.135620, z=0.001844), Rotation(pitch=0.000007, yaw=0.318098, roll=0.000000))\n",
    "#pos 2: Transform(Location(x=-64.644844, y=24.471010, z=0.600000), Rotation(pitch=0.000000, yaw=0.159198, roll=0.000000))"
   ]
  },
  {
   "cell_type": "code",
   "execution_count": 14,
   "id": "9d789284",
   "metadata": {},
   "outputs": [],
   "source": [
    "# import some code coming with the sim\n",
    "import sys\n",
    "sys.path.append('C:/CARLA_0.9.14/PythonAPI/carla')\n",
    "from agents.navigation.global_route_planner import GlobalRoutePlanner"
   ]
  },
  {
   "cell_type": "code",
   "execution_count": 15,
   "id": "baefb365",
   "metadata": {},
   "outputs": [],
   "source": [
    "# using the code to plan the route and then draw it in the simulator\n",
    "#town10hd_map = world.get_map()\n"
   ]
  },
  {
   "cell_type": "code",
   "execution_count": 4,
   "id": "7da2021c",
   "metadata": {},
   "outputs": [],
   "source": [
    "# utility script of destruction\n",
    "\n",
    "for actor in world.get_actors().filter('*vehicle*'):\n",
    "    actor.destroy()\n",
    "for sensor in world.get_actors().filter('*sensor*'):\n",
    "    sensor.destroy()"
   ]
  },
  {
   "cell_type": "code",
   "execution_count": 6,
   "id": "b3327268",
   "metadata": {},
   "outputs": [],
   "source": [
    "# now we define 2 cars\n",
    "truck_bp = world.get_blueprint_library().filter('*firetruck*')\n",
    "mini_bp = world.get_blueprint_library().filter('*cooper_s*')\n",
    "\n",
    "#start first car in alredy defined start point\n",
    "truck = world.try_spawn_actor(truck_bp[0], start_point)"
   ]
  },
  {
   "cell_type": "code",
   "execution_count": 5,
   "id": "294fdfe1",
   "metadata": {},
   "outputs": [],
   "source": [
    "# tweak spectator position to watch the show\n",
    "\n",
    "spectator = world.get_spectator()\n",
    "spawn_points = world.get_map().get_spawn_points()\n",
    "start_point = spawn_points[0]\n",
    "\n",
    "spectator_pos = carla.Transform(start_point.location + carla.Location(x=20,y=10,z=4),\n",
    "                                carla.Rotation(yaw = start_point.rotation.yaw -155))\n",
    "\n",
    "spectator.set_transform(spectator_pos)"
   ]
  },
  {
   "cell_type": "code",
   "execution_count": 51,
   "id": "9dee8be0",
   "metadata": {},
   "outputs": [],
   "source": [
    "\n"
   ]
  },
  {
   "cell_type": "code",
   "execution_count": 19,
   "id": "894d141a",
   "metadata": {},
   "outputs": [],
   "source": [
    "# drop the Mini the sky - watch what happens after\n",
    "\n",
    "#spawn it first somewhere else\n",
    "mini = world.try_spawn_actor(mini_bp[0], spawn_points[10])\n",
    "\n",
    "mini_pos = carla.Transform(start_point.location + carla.Location(x=-4,z=10),\n",
    "                            carla.Rotation(yaw = start_point.rotation.yaw - 0))\n",
    "mini.set_transform(mini_pos)\n"
   ]
  },
  {
   "cell_type": "code",
   "execution_count": 17,
   "id": "4f057b2f",
   "metadata": {},
   "outputs": [],
   "source": [
    "import time\n",
    "for actor in world.get_actors().filter('*vehicle*'):\n",
    "    actor.destroy()\n",
    "for sensor in world.get_actors().filter('*sensor*'):\n",
    "    sensor.destroy()\n",
    "# now we define 2 cars\n",
    "truck_bp = world.get_blueprint_library().filter('*firetruck*')\n",
    "mini_bp = world.get_blueprint_library().filter('*cooper_s*')\n",
    "\n",
    "#start first car in alredy defined start point\n",
    "truck = world.try_spawn_actor(truck_bp[0], start_point)\n",
    "time.sleep(3)\n",
    "\n",
    "vw_bp = world.get_blueprint_library().filter('*volkswagen*')\n",
    "\n",
    "vw = world.try_spawn_actor(vw_bp[0], spawn_points[20])\n",
    "vw_pos = carla.Transform(start_point.location + carla.Location(x=1,z=6),\n",
    "                            carla.Rotation(yaw = start_point.rotation.yaw - 0))\n",
    "vw.set_transform(vw_pos)\n",
    "mini = world.try_spawn_actor(mini_bp[0], spawn_points[10])\n",
    "\n",
    "mini_pos = carla.Transform(start_point.location + carla.Location(x=1,z=10),\n",
    "                            carla.Rotation(yaw = start_point.rotation.yaw - 0))\n",
    "mini.set_transform(mini_pos)\n"
   ]
  },
  {
   "cell_type": "code",
   "execution_count": 9,
   "id": "820993f0",
   "metadata": {},
   "outputs": [],
   "source": [
    "vw_bp = world.get_blueprint_library().filter('*volkswagen*')"
   ]
  },
  {
   "cell_type": "code",
   "execution_count": 11,
   "id": "b97f830c",
   "metadata": {},
   "outputs": [
    {
     "name": "stdout",
     "output_type": "stream",
     "text": [
      "[ActorBlueprint(id=vehicle.nissan.micra,tags=[vehicle, nissan, micra]), ActorBlueprint(id=vehicle.audi.a2,tags=[vehicle, audi, a2]), ActorBlueprint(id=static.prop.plantpot04,tags=[static, prop, plantpot04]), ActorBlueprint(id=static.prop.bench02,tags=[bench02, static, prop]), ActorBlueprint(id=vehicle.mercedes.coupe_2020,tags=[vehicle, mercedes, coupe_2020]), ActorBlueprint(id=vehicle.audi.tt,tags=[vehicle, audi, tt]), ActorBlueprint(id=walker.pedestrian.0037,tags=[0037, walker, pedestrian]), ActorBlueprint(id=vehicle.harley-davidson.low_rider,tags=[harley-davidson, vehicle, low_rider]), ActorBlueprint(id=vehicle.bmw.grandtourer,tags=[vehicle, bmw, grandtourer]), ActorBlueprint(id=static.prop.trashcan05,tags=[static, prop, trashcan05]), ActorBlueprint(id=walker.pedestrian.0038,tags=[walker, pedestrian, 0038]), ActorBlueprint(id=vehicle.carlamotors.firetruck,tags=[vehicle, carlamotors, firetruck]), ActorBlueprint(id=vehicle.micro.microlino,tags=[vehicle, microlino, micro]), ActorBlueprint(id=vehicle.carlamotors.carlacola,tags=[vehicle, carlamotors, carlacola]), ActorBlueprint(id=vehicle.ford.mustang,tags=[vehicle, ford, mustang]), ActorBlueprint(id=vehicle.chevrolet.impala,tags=[impala, chevrolet, vehicle]), ActorBlueprint(id=vehicle.citroen.c3,tags=[vehicle, c3, citroen]), ActorBlueprint(id=vehicle.dodge.charger_police,tags=[vehicle, charger_police, dodge]), ActorBlueprint(id=vehicle.jeep.wrangler_rubicon,tags=[vehicle, jeep, wrangler_rubicon]), ActorBlueprint(id=static.prop.kiosk_01,tags=[static, prop, kiosk_01]), ActorBlueprint(id=vehicle.mercedes.coupe,tags=[vehicle, mercedes, coupe]), ActorBlueprint(id=static.prop.bike helmet,tags=[static, prop, bike helmet]), ActorBlueprint(id=walker.pedestrian.0046,tags=[0046, walker, pedestrian]), ActorBlueprint(id=vehicle.mini.cooper_s,tags=[vehicle, mini, cooper_s]), ActorBlueprint(id=vehicle.nissan.patrol,tags=[vehicle, nissan, patrol]), ActorBlueprint(id=static.prop.plantpot06,tags=[plantpot06, static, prop]), ActorBlueprint(id=vehicle.seat.leon,tags=[vehicle, seat, leon]), ActorBlueprint(id=vehicle.toyota.prius,tags=[toyota, vehicle, prius]), ActorBlueprint(id=vehicle.yamaha.yzf,tags=[vehicle, yamaha, yzf]), ActorBlueprint(id=vehicle.kawasaki.ninja,tags=[vehicle, kawasaki, ninja]), ActorBlueprint(id=vehicle.bh.crossbike,tags=[bh, vehicle, crossbike]), ActorBlueprint(id=vehicle.gazelle.omafiets,tags=[gazelle, vehicle, omafiets]), ActorBlueprint(id=vehicle.tesla.cybertruck,tags=[vehicle, tesla, cybertruck]), ActorBlueprint(id=vehicle.diamondback.century,tags=[century, vehicle, diamondback]), ActorBlueprint(id=static.prop.barrel,tags=[static, prop, barrel]), ActorBlueprint(id=vehicle.audi.etron,tags=[vehicle, audi, etron]), ActorBlueprint(id=static.prop.streetsign,tags=[streetsign, static, prop]), ActorBlueprint(id=static.prop.plantpot02,tags=[static, prop, plantpot02]), ActorBlueprint(id=vehicle.mitsubishi.fusorosa,tags=[vehicle, mitsubishi, fusorosa]), ActorBlueprint(id=vehicle.tesla.model3,tags=[vehicle, tesla, model3]), ActorBlueprint(id=vehicle.volkswagen.t2,tags=[vehicle, volkswagen, t2]), ActorBlueprint(id=vehicle.lincoln.mkz_2017,tags=[vehicle, mkz_2017, lincoln]), ActorBlueprint(id=static.prop.glasscontainer,tags=[static, prop, glasscontainer]), ActorBlueprint(id=vehicle.lincoln.mkz_2020,tags=[vehicle, lincoln, mkz_2020]), ActorBlueprint(id=vehicle.dodge.charger_2020,tags=[vehicle, dodge, charger_2020]), ActorBlueprint(id=vehicle.dodge.charger_police_2020,tags=[vehicle, dodge, charger_police_2020]), ActorBlueprint(id=vehicle.ford.ambulance,tags=[vehicle, ford, ambulance]), ActorBlueprint(id=vehicle.vespa.zx125,tags=[zx125, vehicle, vespa]), ActorBlueprint(id=static.prop.creasedbox02,tags=[static, prop, creasedbox02]), ActorBlueprint(id=vehicle.mini.cooper_s_2021,tags=[vehicle, mini, cooper_s_2021]), ActorBlueprint(id=walker.pedestrian.0021,tags=[walker, 0021, pedestrian]), ActorBlueprint(id=vehicle.nissan.patrol_2021,tags=[patrol_2021, vehicle, nissan]), ActorBlueprint(id=walker.pedestrian.0031,tags=[walker, pedestrian, 0031]), ActorBlueprint(id=vehicle.mercedes.sprinter,tags=[vehicle, mercedes, sprinter]), ActorBlueprint(id=vehicle.ford.crown,tags=[vehicle, ford, crown]), ActorBlueprint(id=static.prop.pergola,tags=[static, prop, pergola]), ActorBlueprint(id=vehicle.volkswagen.t2_2021,tags=[t2_2021, vehicle, volkswagen]), ActorBlueprint(id=walker.pedestrian.0010,tags=[walker, 0010, pedestrian]), ActorBlueprint(id=sensor.other.collision,tags=[sensor, other, collision]), ActorBlueprint(id=sensor.camera.optical_flow,tags=[sensor, camera, optical_flow]), ActorBlueprint(id=sensor.camera.depth,tags=[sensor, camera, depth]), ActorBlueprint(id=static.prop.ironplank,tags=[static, prop, ironplank]), ActorBlueprint(id=sensor.camera.normals,tags=[normals, sensor, camera]), ActorBlueprint(id=static.prop.warningconstruction,tags=[static, prop, warningconstruction]), ActorBlueprint(id=sensor.camera.dvs,tags=[sensor, camera, dvs]), ActorBlueprint(id=sensor.other.gnss,tags=[sensor, other, gnss]), ActorBlueprint(id=walker.pedestrian.0013,tags=[walker, pedestrian, 0013]), ActorBlueprint(id=sensor.other.imu,tags=[sensor, other, imu]), ActorBlueprint(id=static.prop.platformgarbage01,tags=[static, prop, platformgarbage01]), ActorBlueprint(id=sensor.other.lane_invasion,tags=[lane_invasion, sensor, other]), ActorBlueprint(id=static.prop.doghouse,tags=[static, prop, doghouse]), ActorBlueprint(id=walker.pedestrian.0024,tags=[walker, pedestrian, 0024]), ActorBlueprint(id=sensor.other.obstacle,tags=[sensor, other, obstacle]), ActorBlueprint(id=static.prop.creasedbox01,tags=[static, prop, creasedbox01]), ActorBlueprint(id=sensor.other.radar,tags=[radar, sensor, other]), ActorBlueprint(id=sensor.lidar.ray_cast_semantic,tags=[sensor, lidar, ray_cast_semantic]), ActorBlueprint(id=walker.pedestrian.0007,tags=[walker, pedestrian, 0007]), ActorBlueprint(id=sensor.lidar.ray_cast,tags=[sensor, lidar, ray_cast]), ActorBlueprint(id=static.prop.trashcan03,tags=[static, prop, trashcan03]), ActorBlueprint(id=sensor.other.rss,tags=[rss, sensor, other]), ActorBlueprint(id=sensor.camera.rgb,tags=[sensor, camera, rgb]), ActorBlueprint(id=sensor.camera.semantic_segmentation,tags=[sensor, camera, semantic_segmentation]), ActorBlueprint(id=static.prop.dirtdebris02,tags=[static, prop, dirtdebris02]), ActorBlueprint(id=sensor.camera.instance_segmentation,tags=[sensor, camera, instance_segmentation]), ActorBlueprint(id=walker.pedestrian.0001,tags=[walker, pedestrian, 0001]), ActorBlueprint(id=walker.pedestrian.0002,tags=[0002, walker, pedestrian]), ActorBlueprint(id=walker.pedestrian.0003,tags=[walker, 0003, pedestrian]), ActorBlueprint(id=static.prop.atm,tags=[static, prop, atm]), ActorBlueprint(id=walker.pedestrian.0004,tags=[walker, pedestrian, 0004]), ActorBlueprint(id=walker.pedestrian.0005,tags=[walker, pedestrian, 0005]), ActorBlueprint(id=walker.pedestrian.0006,tags=[walker, pedestrian, 0006]), ActorBlueprint(id=static.prop.garbage05,tags=[garbage05, static, prop]), ActorBlueprint(id=walker.pedestrian.0008,tags=[walker, pedestrian, 0008]), ActorBlueprint(id=static.prop.garbage04,tags=[static, garbage04, prop]), ActorBlueprint(id=walker.pedestrian.0009,tags=[walker, pedestrian, 0009]), ActorBlueprint(id=walker.pedestrian.0011,tags=[0011, walker, pedestrian]), ActorBlueprint(id=walker.pedestrian.0012,tags=[walker, pedestrian, 0012]), ActorBlueprint(id=walker.pedestrian.0014,tags=[walker, pedestrian, 0014]), ActorBlueprint(id=walker.pedestrian.0015,tags=[walker, pedestrian, 0015]), ActorBlueprint(id=walker.pedestrian.0016,tags=[walker, pedestrian, 0016]), ActorBlueprint(id=walker.pedestrian.0017,tags=[walker, pedestrian, 0017]), ActorBlueprint(id=walker.pedestrian.0018,tags=[walker, 0018, pedestrian]), ActorBlueprint(id=walker.pedestrian.0019,tags=[0019, walker, pedestrian]), ActorBlueprint(id=static.prop.plasticbag,tags=[plasticbag, static, prop]), ActorBlueprint(id=static.prop.busstop,tags=[static, prop, busstop]), ActorBlueprint(id=walker.pedestrian.0020,tags=[0020, walker, pedestrian]), ActorBlueprint(id=walker.pedestrian.0022,tags=[walker, pedestrian, 0022]), ActorBlueprint(id=static.prop.clothcontainer,tags=[static, prop, clothcontainer]), ActorBlueprint(id=walker.pedestrian.0023,tags=[walker, pedestrian, 0023]), ActorBlueprint(id=walker.pedestrian.0025,tags=[walker, pedestrian, 0025]), ActorBlueprint(id=static.prop.fountain,tags=[static, prop, fountain]), ActorBlueprint(id=walker.pedestrian.0026,tags=[walker, pedestrian, 0026]), ActorBlueprint(id=walker.pedestrian.0027,tags=[walker, pedestrian, 0027]), ActorBlueprint(id=walker.pedestrian.0028,tags=[0028, walker, pedestrian]), ActorBlueprint(id=static.prop.advertisement,tags=[static, prop, advertisement]), ActorBlueprint(id=walker.pedestrian.0029,tags=[walker, 0029, pedestrian]), ActorBlueprint(id=walker.pedestrian.0030,tags=[walker, pedestrian, 0030]), ActorBlueprint(id=static.prop.slide,tags=[static, prop, slide]), ActorBlueprint(id=walker.pedestrian.0032,tags=[walker, pedestrian, 0032]), ActorBlueprint(id=walker.pedestrian.0033,tags=[walker, pedestrian, 0033]), ActorBlueprint(id=walker.pedestrian.0034,tags=[walker, pedestrian, 0034]), ActorBlueprint(id=walker.pedestrian.0035,tags=[walker, pedestrian, 0035]), ActorBlueprint(id=static.prop.colacan,tags=[static, prop, colacan]), ActorBlueprint(id=walker.pedestrian.0036,tags=[walker, 0036, pedestrian]), ActorBlueprint(id=static.prop.trashcan04,tags=[static, prop, trashcan04]), ActorBlueprint(id=static.prop.plastictable,tags=[static, prop, plastictable]), ActorBlueprint(id=walker.pedestrian.0039,tags=[walker, pedestrian, 0039]), ActorBlueprint(id=static.prop.mailbox,tags=[mailbox, static, prop]), ActorBlueprint(id=walker.pedestrian.0040,tags=[walker, pedestrian, 0040]), ActorBlueprint(id=walker.pedestrian.0041,tags=[walker, pedestrian, 0041]), ActorBlueprint(id=walker.pedestrian.0042,tags=[walker, pedestrian, 0042]), ActorBlueprint(id=walker.pedestrian.0043,tags=[walker, pedestrian, 0043]), ActorBlueprint(id=static.prop.swingcouch,tags=[static, prop, swingcouch]), ActorBlueprint(id=walker.pedestrian.0044,tags=[walker, pedestrian, 0044]), ActorBlueprint(id=walker.pedestrian.0045,tags=[walker, pedestrian, 0045]), ActorBlueprint(id=walker.pedestrian.0047,tags=[walker, 0047, pedestrian]), ActorBlueprint(id=walker.pedestrian.0048,tags=[walker, pedestrian, 0048]), ActorBlueprint(id=walker.pedestrian.0049,tags=[walker, pedestrian, 0049]), ActorBlueprint(id=static.prop.barbeque,tags=[static, barbeque, prop]), ActorBlueprint(id=static.prop.plantpot07,tags=[static, plantpot07, prop]), ActorBlueprint(id=static.prop.bench01,tags=[static, prop, bench01]), ActorBlueprint(id=static.prop.plantpot05,tags=[static, prop, plantpot05]), ActorBlueprint(id=static.prop.bench03,tags=[static, bench03, prop]), ActorBlueprint(id=static.prop.bin,tags=[static, prop, bin]), ActorBlueprint(id=static.prop.garbage03,tags=[static, prop, garbage03]), ActorBlueprint(id=static.prop.box01,tags=[static, prop, box01]), ActorBlueprint(id=static.prop.box02,tags=[static, prop, box02]), ActorBlueprint(id=static.prop.garbage01,tags=[static, prop, garbage01]), ActorBlueprint(id=static.prop.box03,tags=[static, prop, box03]), ActorBlueprint(id=static.prop.table,tags=[static, prop, table]), ActorBlueprint(id=static.prop.briefcase,tags=[briefcase, static, prop]), ActorBlueprint(id=static.prop.brokentile01,tags=[static, prop, brokentile01]), ActorBlueprint(id=static.prop.brokentile02,tags=[static, prop, brokentile02]), ActorBlueprint(id=static.prop.trafficcone02,tags=[static, prop, trafficcone02]), ActorBlueprint(id=static.prop.brokentile03,tags=[static, prop, brokentile03]), ActorBlueprint(id=static.prop.brokentile04,tags=[static, brokentile04, prop]), ActorBlueprint(id=static.prop.vendingmachine,tags=[vendingmachine, static, prop]), ActorBlueprint(id=static.prop.chainbarrier,tags=[static, prop, chainbarrier]), ActorBlueprint(id=static.prop.chainbarrierend,tags=[static, prop, chainbarrierend]), ActorBlueprint(id=static.prop.shoppingbag,tags=[static, prop, shoppingbag]), ActorBlueprint(id=static.prop.clothesline,tags=[static, prop, clothesline]), ActorBlueprint(id=static.prop.constructioncone,tags=[static, prop, constructioncone]), ActorBlueprint(id=static.prop.container,tags=[static, container, prop]), ActorBlueprint(id=static.prop.creasedbox03,tags=[static, prop, creasedbox03]), ActorBlueprint(id=static.prop.dirtdebris01,tags=[static, prop, dirtdebris01]), ActorBlueprint(id=static.prop.dirtdebris03,tags=[static, prop, dirtdebris03]), ActorBlueprint(id=static.prop.garbage02,tags=[static, prop, garbage02]), ActorBlueprint(id=static.prop.plasticchair,tags=[static, prop, plasticchair]), ActorBlueprint(id=static.prop.garbage06,tags=[static, prop, garbage06]), ActorBlueprint(id=static.prop.calibrator,tags=[static, prop, calibrator]), ActorBlueprint(id=static.prop.gardenlamp,tags=[static, prop, gardenlamp]), ActorBlueprint(id=static.prop.gnome,tags=[static, prop, gnome]), ActorBlueprint(id=static.prop.guitarcase,tags=[guitarcase, static, prop]), ActorBlueprint(id=static.prop.maptable,tags=[maptable, static, prop]), ActorBlueprint(id=static.prop.mobile,tags=[static, prop, mobile]), ActorBlueprint(id=static.prop.plantpot08,tags=[static, prop, plantpot08]), ActorBlueprint(id=static.prop.motorhelmet,tags=[static, prop, motorhelmet]), ActorBlueprint(id=static.prop.plantpot01,tags=[static, prop, plantpot01]), ActorBlueprint(id=static.prop.plantpot03,tags=[static, prop, plantpot03]), ActorBlueprint(id=static.prop.purse,tags=[static, purse, prop]), ActorBlueprint(id=static.prop.shoppingcart,tags=[static, prop, shoppingcart]), ActorBlueprint(id=static.prop.shoppingtrolley,tags=[static, prop, shoppingtrolley]), ActorBlueprint(id=static.prop.streetsign01,tags=[static, streetsign01, prop]), ActorBlueprint(id=static.prop.haybalelb,tags=[static, prop, haybalelb]), ActorBlueprint(id=static.prop.streetsign04,tags=[static, prop, streetsign04]), ActorBlueprint(id=static.prop.streetbarrier,tags=[static, prop, streetbarrier]), ActorBlueprint(id=static.prop.streetfountain,tags=[static, prop, streetfountain]), ActorBlueprint(id=static.prop.swing,tags=[static, prop, swing]), ActorBlueprint(id=static.prop.trafficcone01,tags=[static, prop, trafficcone01]), ActorBlueprint(id=static.prop.trafficwarning,tags=[static, prop, trafficwarning]), ActorBlueprint(id=static.prop.trampoline,tags=[static, prop, trampoline]), ActorBlueprint(id=static.prop.trashbag,tags=[static, prop, trashbag]), ActorBlueprint(id=static.prop.trashcan01,tags=[static, prop, trashcan01]), ActorBlueprint(id=static.prop.trashcan02,tags=[static, prop, trashcan02]), ActorBlueprint(id=static.prop.travelcase,tags=[static, prop, travelcase]), ActorBlueprint(id=static.prop.wateringcan,tags=[static, prop, wateringcan]), ActorBlueprint(id=static.prop.foodcart,tags=[foodcart, static, prop]), ActorBlueprint(id=static.prop.haybale,tags=[haybale, static, prop]), ActorBlueprint(id=static.prop.busstoplb,tags=[static, prop, busstoplb]), ActorBlueprint(id=static.prop.mesh,tags=[static, prop, mesh]), ActorBlueprint(id=static.prop.warningaccident,tags=[static, prop, warningaccident]), ActorBlueprint(id=static.trigger.friction,tags=[friction, trigger, static]), ActorBlueprint(id=controller.ai.walker,tags=[controller, walker, ai])]\n"
     ]
    }
   ],
   "source": [
    "vehicle_all = world.get_blueprint_library()\n",
    "print(vehicle_all)"
   ]
  },
  {
   "cell_type": "code",
   "execution_count": null,
   "id": "59ca3de0",
   "metadata": {},
   "outputs": [],
   "source": []
  }
 ],
 "metadata": {
  "kernelspec": {
   "display_name": "Python 3 (ipykernel)",
   "language": "python",
   "name": "python3"
  },
  "language_info": {
   "codemirror_mode": {
    "name": "ipython",
    "version": 3
   },
   "file_extension": ".py",
   "mimetype": "text/x-python",
   "name": "python",
   "nbconvert_exporter": "python",
   "pygments_lexer": "ipython3",
   "version": "3.7.15"
  }
 },
 "nbformat": 4,
 "nbformat_minor": 5
}
